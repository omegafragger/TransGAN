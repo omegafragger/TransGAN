{
 "cells": [
  {
   "cell_type": "code",
   "execution_count": 1,
   "metadata": {},
   "outputs": [],
   "source": [
    "import torch\n",
    "\n",
    "# Import models\n",
    "from net.densenet import densenet121\n",
    "from net.resnet import resnet50, resnet110\n",
    "from net.vgg import vgg16\n",
    "from net.wide_resnet import wrn_28_10\n",
    "from net.inception import inceptionv3"
   ]
  },
  {
   "cell_type": "code",
   "execution_count": 2,
   "metadata": {},
   "outputs": [],
   "source": [
    "# Test a single model or a single ensemble\n",
    "\n",
    "ensemble = []\n",
    "\n",
    "with torch.no_grad():\n",
    "    for i in range(5):\n",
    "        model = densenet121().cuda()\n",
    "        model.load_state_dict(torch.load(f'../ood_ensemble/densenet121/densenet121_{(i+1)}_350.model'))\n",
    "        ensemble.append(model)"
   ]
  },
  {
   "cell_type": "code",
   "execution_count": 3,
   "metadata": {},
   "outputs": [
    {
     "name": "stdout",
     "output_type": "stream",
     "text": [
      "Files already downloaded and verified\n",
      "Files already downloaded and verified\n",
      "Using downloaded and verified file: ./datasets/test_32x32.mat\n"
     ]
    }
   ],
   "source": [
    "# Load the data loaders\n",
    "import data.cifar10_100 as cifar10_100\n",
    "import data.svhn as svhn\n",
    "import data.cifar10_ood as cifar10_ood\n",
    "from data.cifar10_ood import CIFAR10_OOD\n",
    "\n",
    "cifar10_test_loader = cifar10_100.get_loaders(128,\n",
    "                                              dataset='cifar10',\n",
    "                                              train=False)\n",
    "cifar100_test_loader = cifar10_100.get_loaders(128,\n",
    "                                               dataset='cifar100',\n",
    "                                               train=False)\n",
    "\n",
    "svhn_test_loader = svhn.get_loaders(128,\n",
    "                                    dataset='svhn',\n",
    "                                    train=False)\n",
    "\n",
    "cifar10_ood = CIFAR10_OOD(path='./data/ood_generated')\n",
    "cifar10_ood_loader = torch.utils.data.DataLoader(\n",
    "                         cifar10_ood,\n",
    "                         batch_size=128,\n",
    "                         shuffle=False,\n",
    "                         num_workers=4,\n",
    "                         pin_memory=True,\n",
    "                     )"
   ]
  },
  {
   "cell_type": "code",
   "execution_count": 4,
   "metadata": {},
   "outputs": [
    {
     "name": "stdout",
     "output_type": "stream",
     "text": [
      "Model 0\n",
      "SVHN done\n"
     ]
    },
    {
     "ename": "AttributeError",
     "evalue": "'list' object has no attribute 'eval'",
     "output_type": "error",
     "traceback": [
      "\u001b[0;31m---------------------------------------------------------------------------\u001b[0m",
      "\u001b[0;31mAttributeError\u001b[0m                            Traceback (most recent call last)",
      "\u001b[0;32m<ipython-input-4-8df9c024b9e4>\u001b[0m in \u001b[0;36m<module>\u001b[0;34m\u001b[0m\n\u001b[1;32m     33\u001b[0m                                                                   \u001b[0mcifar100_test_loader\u001b[0m\u001b[0;34m,\u001b[0m\u001b[0;34m\u001b[0m\u001b[0;34m\u001b[0m\u001b[0m\n\u001b[1;32m     34\u001b[0m                                                                   \u001b[0muncertainty\u001b[0m\u001b[0;34m=\u001b[0m\u001b[0;34m'predictive_entropy'\u001b[0m\u001b[0;34m,\u001b[0m\u001b[0;34m\u001b[0m\u001b[0;34m\u001b[0m\u001b[0m\n\u001b[0;32m---> 35\u001b[0;31m                                                                   \u001b[0mdevice\u001b[0m\u001b[0;34m=\u001b[0m\u001b[0;34m\"cuda\"\u001b[0m\u001b[0;34m\u001b[0m\u001b[0;34m\u001b[0m\u001b[0m\n\u001b[0m\u001b[1;32m     36\u001b[0m                                                       )\n\u001b[1;32m     37\u001b[0m \u001b[0;31m#         (_, _, _), (_, _, _), cifar100_confidence_auroc, _ = get_roc_auc(model,\u001b[0m\u001b[0;34m\u001b[0m\u001b[0;34m\u001b[0m\u001b[0;34m\u001b[0m\u001b[0m\n",
      "\u001b[0;32m~/Projects/FB/transgan/metrics/ood_metrics.py\u001b[0m in \u001b[0;36mget_roc_auc\u001b[0;34m(net, test_loader, ood_test_loader, uncertainty, device, confidence)\u001b[0m\n\u001b[1;32m     12\u001b[0m \u001b[0;34m\u001b[0m\u001b[0m\n\u001b[1;32m     13\u001b[0m \u001b[0;32mdef\u001b[0m \u001b[0mget_roc_auc\u001b[0m\u001b[0;34m(\u001b[0m\u001b[0mnet\u001b[0m\u001b[0;34m,\u001b[0m \u001b[0mtest_loader\u001b[0m\u001b[0;34m,\u001b[0m \u001b[0mood_test_loader\u001b[0m\u001b[0;34m,\u001b[0m \u001b[0muncertainty\u001b[0m\u001b[0;34m,\u001b[0m \u001b[0mdevice\u001b[0m\u001b[0;34m,\u001b[0m \u001b[0mconfidence\u001b[0m\u001b[0;34m=\u001b[0m\u001b[0;32mFalse\u001b[0m\u001b[0;34m)\u001b[0m\u001b[0;34m:\u001b[0m\u001b[0;34m\u001b[0m\u001b[0;34m\u001b[0m\u001b[0m\n\u001b[0;32m---> 14\u001b[0;31m     \u001b[0mlogits\u001b[0m\u001b[0;34m,\u001b[0m \u001b[0m_\u001b[0m \u001b[0;34m=\u001b[0m \u001b[0mget_logits_labels\u001b[0m\u001b[0;34m(\u001b[0m\u001b[0mnet\u001b[0m\u001b[0;34m,\u001b[0m \u001b[0mtest_loader\u001b[0m\u001b[0;34m,\u001b[0m \u001b[0mdevice\u001b[0m\u001b[0;34m)\u001b[0m\u001b[0;34m\u001b[0m\u001b[0;34m\u001b[0m\u001b[0m\n\u001b[0m\u001b[1;32m     15\u001b[0m     \u001b[0mood_logits\u001b[0m\u001b[0;34m,\u001b[0m \u001b[0m_\u001b[0m \u001b[0;34m=\u001b[0m \u001b[0mget_logits_labels\u001b[0m\u001b[0;34m(\u001b[0m\u001b[0mnet\u001b[0m\u001b[0;34m,\u001b[0m \u001b[0mood_test_loader\u001b[0m\u001b[0;34m,\u001b[0m \u001b[0mdevice\u001b[0m\u001b[0;34m)\u001b[0m\u001b[0;34m\u001b[0m\u001b[0;34m\u001b[0m\u001b[0m\n\u001b[1;32m     16\u001b[0m \u001b[0;34m\u001b[0m\u001b[0m\n",
      "\u001b[0;32m~/Projects/FB/transgan/metrics/classification_metrics.py\u001b[0m in \u001b[0;36mget_logits_labels\u001b[0;34m(model, data_loader, device)\u001b[0m\n\u001b[1;32m     15\u001b[0m     \u001b[0mUtility\u001b[0m \u001b[0mfunction\u001b[0m \u001b[0mto\u001b[0m \u001b[0mget\u001b[0m \u001b[0mlogits\u001b[0m \u001b[0;32mand\u001b[0m \u001b[0mlabels\u001b[0m\u001b[0;34m.\u001b[0m\u001b[0;34m\u001b[0m\u001b[0;34m\u001b[0m\u001b[0m\n\u001b[1;32m     16\u001b[0m     \"\"\"\n\u001b[0;32m---> 17\u001b[0;31m     \u001b[0mmodel\u001b[0m\u001b[0;34m.\u001b[0m\u001b[0meval\u001b[0m\u001b[0;34m(\u001b[0m\u001b[0;34m)\u001b[0m\u001b[0;34m\u001b[0m\u001b[0;34m\u001b[0m\u001b[0m\n\u001b[0m\u001b[1;32m     18\u001b[0m     \u001b[0mlogits\u001b[0m \u001b[0;34m=\u001b[0m \u001b[0;34m[\u001b[0m\u001b[0;34m]\u001b[0m\u001b[0;34m\u001b[0m\u001b[0;34m\u001b[0m\u001b[0m\n\u001b[1;32m     19\u001b[0m     \u001b[0mlabels\u001b[0m \u001b[0;34m=\u001b[0m \u001b[0;34m[\u001b[0m\u001b[0;34m]\u001b[0m\u001b[0;34m\u001b[0m\u001b[0;34m\u001b[0m\u001b[0m\n",
      "\u001b[0;31mAttributeError\u001b[0m: 'list' object has no attribute 'eval'"
     ]
    }
   ],
   "source": [
    "from metrics.uncertainty_confidence import entropy, confidence\n",
    "from metrics.ood_metrics import get_roc_auc\n",
    "from metrics.ood_metrics import get_roc_auc_ensemble\n",
    "\n",
    "svhn_entropy_aurocs = []\n",
    "# svhn_confidence_aurocs = []\n",
    "\n",
    "cifar100_entropy_aurocs = []\n",
    "#cifar100_confidence_aurocs = []\n",
    " \n",
    "cifar10_ood_entropy_aurocs = []\n",
    "# cifar10_ood_confidence_aurocs = []\n",
    "\n",
    "with torch.no_grad():\n",
    "    for i, model in enumerate(ensemble):\n",
    "        print (f'Model {i}')\n",
    "        (_, _, _), (_, _, _), svhn_entropy_auroc, _ = get_roc_auc_ensemble(ensemble,\n",
    "                                                                  cifar10_test_loader,\n",
    "                                                                  svhn_test_loader,\n",
    "                                                                  uncertainty='predictive_entropy',\n",
    "                                                                  device=\"cuda\"\n",
    "                                                      )\n",
    "#         (_, _, _), (_, _, _), svhn_confidence_auroc, _ = get_roc_auc(model,\n",
    "#                                                                   cifar10_test_loader,\n",
    "#                                                                   svhn_test_loader,\n",
    "#                                                                   uncertainty=confidence,\n",
    "#                                                                   device=\"cuda\",\n",
    "#                                                                   confidence=True\n",
    "#                                                       )\n",
    "        print ('SVHN done')\n",
    "        (_, _, _), (_, _, _), cifar100_entropy_auroc, _ = get_roc_auc_ensemble(ensemble,\n",
    "                                                                  cifar10_test_loader,\n",
    "                                                                  cifar100_test_loader,\n",
    "                                                                  uncertainty='predictive_entropy',\n",
    "                                                                  device=\"cuda\"\n",
    "                                                      )\n",
    "#         (_, _, _), (_, _, _), cifar100_confidence_auroc, _ = get_roc_auc(model,\n",
    "#                                                                   cifar10_test_loader,\n",
    "#                                                                   cifar100_test_loader,\n",
    "#                                                                   uncertainty=confidence,\n",
    "#                                                                   device=\"cuda\",\n",
    "#                                                                   confidence=True\n",
    "#                                                       )\n",
    "        print ('CIFAR100 done')\n",
    "        (_, _, _), (_, _, _), cifar10_ood_entropy_auroc, _ = get_roc_auc_ensemble(ensemble,\n",
    "                                                                  cifar10_test_loader,\n",
    "                                                                  cifar10_ood_loader,\n",
    "                                                                  uncertainty='predictive_entropy',\n",
    "                                                                  device=\"cuda\"\n",
    "                                                      )\n",
    "#         (_, _, _), (_, _, _), cifar10_ood_confidence_auroc, _ = get_roc_auc(model,\n",
    "#                                                                   cifar10_test_loader,\n",
    "#                                                                   cifar10_ood_loader,\n",
    "#                                                                   uncertainty=confidence,\n",
    "#                                                                   device=\"cuda\",\n",
    "#                                                                   confidence=True\n",
    "#                                                       )\n",
    "        print ('CIFAR10 OoD done')\n",
    "\n",
    "        svhn_entropy_aurocs.append(svhn_entropy_auroc)\n",
    "        #svhn_confidence_aurocs.append(svhn_confidence_auroc)\n",
    " \n",
    "        cifar100_entropy_aurocs.append(cifar100_entropy_auroc)\n",
    "        #cifar100_confidence_aurocs.append(cifar100_confidence_auroc)\n",
    "\n",
    "        cifar10_ood_entropy_aurocs.append(cifar10_ood_entropy_auroc)\n",
    "        #cifar10_ood_confidence_aurocs.append(cifar10_ood_confidence_auroc)"
   ]
  },
  {
   "cell_type": "code",
   "execution_count": 5,
   "metadata": {},
   "outputs": [],
   "source": [
    "svhn_entropy_aurocs = torch.tensor(svhn_entropy_aurocs)\n",
    "#svhn_confidence_aurocs = torch.tensor(svhn_confidence_aurocs)\n",
    "\n",
    "cifar100_entropy_aurocs = torch.tensor(cifar100_entropy_aurocs)\n",
    "#cifar100_confidence_aurocs = torch.tensor(cifar100_confidence_aurocs)\n",
    "\n",
    "cifar10_ood_entropy_aurocs = torch.tensor(cifar10_ood_entropy_aurocs)\n",
    "#cifar10_ood_confidence_aurocs = torch.tensor(cifar10_ood_confidence_aurocs)"
   ]
  },
  {
   "cell_type": "code",
   "execution_count": 6,
   "metadata": {},
   "outputs": [
    {
     "name": "stdout",
     "output_type": "stream",
     "text": [
      "SVHN: ===================>\n",
      "Entropy AUROC: 0.866998643208359 +- 0.02351251854790852\n",
      "Confidence AUROC: 0.8677973213736939 +- 0.02248625804560712\n",
      "CIFAR-100: ===================>\n",
      "Entropy AUROC: 0.8336993469999999 +- 0.004948603800963254\n",
      "Confidence AUROC: 0.8330386019999999 +- 0.004736537414059184\n",
      "Morphed CIFAR-10: ===================>\n",
      "Entropy AUROC: 0.7144191426001799 +- 0.02279322115314657\n",
      "Confidence AUROC: 0.7142926201658838 +- 0.02254653389982291\n"
     ]
    }
   ],
   "source": [
    "print ('SVHN: ===================>')\n",
    "print (f'Entropy AUROC: {torch.mean(svhn_entropy_aurocs)} +- {torch.std(svhn_entropy_aurocs)}')\n",
    "#print (f'Confidence AUROC: {torch.mean(svhn_confidence_aurocs)} +- {torch.std(svhn_confidence_aurocs)}')\n",
    "\n",
    "print ('CIFAR-100: ===================>')\n",
    "print (f'Entropy AUROC: {torch.mean(cifar100_entropy_aurocs)} +- {torch.std(cifar100_entropy_aurocs)}')\n",
    "#print (f'Confidence AUROC: {torch.mean(cifar100_confidence_aurocs)} +- {torch.std(cifar100_confidence_aurocs)}')\n",
    "\n",
    "print ('Morphed CIFAR-10: ===================>')\n",
    "print (f'Entropy AUROC: {torch.mean(cifar10_ood_entropy_aurocs)} +- {torch.std(cifar10_ood_entropy_aurocs)}')\n",
    "#print (f'Confidence AUROC: {torch.mean(cifar10_ood_confidence_aurocs)} +- {torch.std(cifar10_ood_confidence_aurocs)}')\n"
   ]
  },
  {
   "cell_type": "code",
   "execution_count": null,
   "metadata": {},
   "outputs": [],
   "source": []
  }
 ],
 "metadata": {
  "kernelspec": {
   "display_name": "Python 3",
   "language": "python",
   "name": "python3"
  },
  "language_info": {
   "codemirror_mode": {
    "name": "ipython",
    "version": 3
   },
   "file_extension": ".py",
   "mimetype": "text/x-python",
   "name": "python",
   "nbconvert_exporter": "python",
   "pygments_lexer": "ipython3",
   "version": "3.7.10"
  }
 },
 "nbformat": 4,
 "nbformat_minor": 4
}
