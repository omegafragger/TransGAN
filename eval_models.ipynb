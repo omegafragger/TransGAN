{
 "cells": [
  {
   "cell_type": "code",
   "execution_count": 1,
   "metadata": {},
   "outputs": [],
   "source": [
    "import torch\n",
    "\n",
    "# Import models\n",
    "from net.densenet import densenet121\n",
    "from net.resnet import resnet50, resnet110\n",
    "from net.vgg import vgg16\n",
    "from net.wide_resnet import wrn_28_10\n",
    "from net.inception import inceptionv3"
   ]
  },
  {
   "cell_type": "code",
   "execution_count": 2,
   "metadata": {},
   "outputs": [],
   "source": [
    "# Test a single model or a single ensemble\n",
    "\n",
    "ensemble = []\n",
    "\n",
    "with torch.no_grad():\n",
    "    for i in range(5):\n",
    "        model = densenet121().cuda()\n",
    "        model.load_state_dict(torch.load(f'../ood_ensemble/densenet121/densenet121_{(i+1)}_350.model'))\n",
    "        ensemble.append(model)"
   ]
  },
  {
   "cell_type": "code",
   "execution_count": 3,
   "metadata": {},
   "outputs": [
    {
     "name": "stdout",
     "output_type": "stream",
     "text": [
      "Files already downloaded and verified\n",
      "Files already downloaded and verified\n",
      "Using downloaded and verified file: ./datasets/test_32x32.mat\n"
     ]
    }
   ],
   "source": [
    "# Load the data loaders\n",
    "import data.cifar10_100 as cifar10_100\n",
    "import data.svhn as svhn\n",
    "import data.cifar10_ood as cifar10_ood\n",
    "from data.cifar10_ood import CIFAR10_OOD\n",
    "\n",
    "cifar10_test_loader = cifar10_100.get_loaders(128,\n",
    "                                              dataset='cifar10',\n",
    "                                              train=False)\n",
    "cifar100_test_loader = cifar10_100.get_loaders(128,\n",
    "                                               dataset='cifar100',\n",
    "                                               train=False)\n",
    "\n",
    "svhn_test_loader = svhn.get_loaders(128,\n",
    "                                    dataset='svhn',\n",
    "                                    train=False)\n",
    "\n",
    "cifar10_ood = CIFAR10_OOD(path='./data/ood_generated')\n",
    "cifar10_ood_loader = torch.utils.data.DataLoader(\n",
    "                         cifar10_ood,\n",
    "                         batch_size=128,\n",
    "                         shuffle=False,\n",
    "                         num_workers=4,\n",
    "                         pin_memory=True,\n",
    "                     )"
   ]
  },
  {
   "cell_type": "code",
   "execution_count": 4,
   "metadata": {},
   "outputs": [
    {
     "name": "stdout",
     "output_type": "stream",
     "text": [
      "Model 0\n",
      "SVHN done\n",
      "CIFAR100 done\n",
      "CIFAR10 OoD done\n",
      "Model 1\n",
      "SVHN done\n",
      "CIFAR100 done\n",
      "CIFAR10 OoD done\n",
      "Model 2\n",
      "SVHN done\n",
      "CIFAR100 done\n",
      "CIFAR10 OoD done\n",
      "Model 3\n",
      "SVHN done\n",
      "CIFAR100 done\n",
      "CIFAR10 OoD done\n",
      "Model 4\n",
      "SVHN done\n",
      "CIFAR100 done\n",
      "CIFAR10 OoD done\n"
     ]
    }
   ],
   "source": [
    "from metrics.uncertainty_confidence import entropy, confidence\n",
    "from metrics.ood_metrics import get_roc_auc\n",
    "from metrics.ood_metrics import get_roc_auc_ensemble\n",
    "\n",
    "svhn_entropy_aurocs = []\n",
    "# svhn_confidence_aurocs = []\n",
    "\n",
    "cifar100_entropy_aurocs = []\n",
    "#cifar100_confidence_aurocs = []\n",
    " \n",
    "cifar10_ood_entropy_aurocs = []\n",
    "# cifar10_ood_confidence_aurocs = []\n",
    "\n",
    "with torch.no_grad():\n",
    "    for i, model in enumerate(ensemble):\n",
    "        print (f'Model {i}')\n",
    "        (_, _, _), (_, _, _), svhn_entropy_auroc, _ = get_roc_auc_ensemble(ensemble,\n",
    "                                                                  cifar10_test_loader,\n",
    "                                                                  svhn_test_loader,\n",
    "                                                                  uncertainty='predictive_entropy',\n",
    "                                                                  device=\"cuda\"\n",
    "                                                      )\n",
    "#         (_, _, _), (_, _, _), svhn_confidence_auroc, _ = get_roc_auc(model,\n",
    "#                                                                   cifar10_test_loader,\n",
    "#                                                                   svhn_test_loader,\n",
    "#                                                                   uncertainty=confidence,\n",
    "#                                                                   device=\"cuda\",\n",
    "#                                                                   confidence=True\n",
    "#                                                       )\n",
    "        print ('SVHN done')\n",
    "        (_, _, _), (_, _, _), cifar100_entropy_auroc, _ = get_roc_auc_ensemble(ensemble,\n",
    "                                                                  cifar10_test_loader,\n",
    "                                                                  cifar100_test_loader,\n",
    "                                                                  uncertainty='predictive_entropy',\n",
    "                                                                  device=\"cuda\"\n",
    "                                                      )\n",
    "#         (_, _, _), (_, _, _), cifar100_confidence_auroc, _ = get_roc_auc(model,\n",
    "#                                                                   cifar10_test_loader,\n",
    "#                                                                   cifar100_test_loader,\n",
    "#                                                                   uncertainty=confidence,\n",
    "#                                                                   device=\"cuda\",\n",
    "#                                                                   confidence=True\n",
    "#                                                       )\n",
    "        print ('CIFAR100 done')\n",
    "        (_, _, _), (_, _, _), cifar10_ood_entropy_auroc, _ = get_roc_auc_ensemble(ensemble,\n",
    "                                                                  cifar10_test_loader,\n",
    "                                                                  cifar10_ood_loader,\n",
    "                                                                  uncertainty='predictive_entropy',\n",
    "                                                                  device=\"cuda\"\n",
    "                                                      )\n",
    "#         (_, _, _), (_, _, _), cifar10_ood_confidence_auroc, _ = get_roc_auc(model,\n",
    "#                                                                   cifar10_test_loader,\n",
    "#                                                                   cifar10_ood_loader,\n",
    "#                                                                   uncertainty=confidence,\n",
    "#                                                                   device=\"cuda\",\n",
    "#                                                                   confidence=True\n",
    "#                                                       )\n",
    "        print ('CIFAR10 OoD done')\n",
    "\n",
    "        svhn_entropy_aurocs.append(svhn_entropy_auroc)\n",
    "        #svhn_confidence_aurocs.append(svhn_confidence_auroc)\n",
    " \n",
    "        cifar100_entropy_aurocs.append(cifar100_entropy_auroc)\n",
    "        #cifar100_confidence_aurocs.append(cifar100_confidence_auroc)\n",
    "\n",
    "        cifar10_ood_entropy_aurocs.append(cifar10_ood_entropy_auroc)\n",
    "        #cifar10_ood_confidence_aurocs.append(cifar10_ood_confidence_auroc)"
   ]
  },
  {
   "cell_type": "code",
   "execution_count": 5,
   "metadata": {},
   "outputs": [],
   "source": [
    "svhn_entropy_aurocs = torch.tensor(svhn_entropy_aurocs)\n",
    "#svhn_confidence_aurocs = torch.tensor(svhn_confidence_aurocs)\n",
    "\n",
    "cifar100_entropy_aurocs = torch.tensor(cifar100_entropy_aurocs)\n",
    "#cifar100_confidence_aurocs = torch.tensor(cifar100_confidence_aurocs)\n",
    "\n",
    "cifar10_ood_entropy_aurocs = torch.tensor(cifar10_ood_entropy_aurocs)\n",
    "#cifar10_ood_confidence_aurocs = torch.tensor(cifar10_ood_confidence_aurocs)"
   ]
  },
  {
   "cell_type": "code",
   "execution_count": 6,
   "metadata": {},
   "outputs": [
    {
     "name": "stdout",
     "output_type": "stream",
     "text": [
      "SVHN: ===================>\n",
      "Entropy AUROC: 0.9751892386293793 +- 2.1040356283291935e-09\n",
      "CIFAR-100: ===================>\n",
      "Entropy AUROC: 0.9142333350000001 +- 1.2412670766236366e-16\n",
      "Morphed CIFAR-10: ===================>\n",
      "Entropy AUROC: 0.8263104626761265 +- 1.2412670766236366e-16\n"
     ]
    }
   ],
   "source": [
    "print ('SVHN: ===================>')\n",
    "print (f'Entropy AUROC: {torch.mean(svhn_entropy_aurocs)} +- {torch.std(svhn_entropy_aurocs)}')\n",
    "#print (f'Confidence AUROC: {torch.mean(svhn_confidence_aurocs)} +- {torch.std(svhn_confidence_aurocs)}')\n",
    "\n",
    "print ('CIFAR-100: ===================>')\n",
    "print (f'Entropy AUROC: {torch.mean(cifar100_entropy_aurocs)} +- {torch.std(cifar100_entropy_aurocs)}')\n",
    "#print (f'Confidence AUROC: {torch.mean(cifar100_confidence_aurocs)} +- {torch.std(cifar100_confidence_aurocs)}')\n",
    "\n",
    "print ('Morphed CIFAR-10: ===================>')\n",
    "print (f'Entropy AUROC: {torch.mean(cifar10_ood_entropy_aurocs)} +- {torch.std(cifar10_ood_entropy_aurocs)}')\n",
    "#print (f'Confidence AUROC: {torch.mean(cifar10_ood_confidence_aurocs)} +- {torch.std(cifar10_ood_confidence_aurocs)}')\n"
   ]
  },
  {
   "cell_type": "code",
   "execution_count": null,
   "metadata": {},
   "outputs": [],
   "source": []
  }
 ],
 "metadata": {
  "kernelspec": {
   "display_name": "Python 3",
   "language": "python",
   "name": "python3"
  },
  "language_info": {
   "codemirror_mode": {
    "name": "ipython",
    "version": 3
   },
   "file_extension": ".py",
   "mimetype": "text/x-python",
   "name": "python",
   "nbconvert_exporter": "python",
   "pygments_lexer": "ipython3",
   "version": "3.7.10"
  }
 },
 "nbformat": 4,
 "nbformat_minor": 4
}
