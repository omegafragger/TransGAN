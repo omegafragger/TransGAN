{
 "cells": [
  {
   "cell_type": "code",
   "execution_count": 1,
   "metadata": {},
   "outputs": [],
   "source": [
    "import os\n",
    "import torch\n",
    "\n",
    "from torchvision import transforms, datasets\n",
    "from torch.utils.data import DataLoader\n",
    "from torch.utils.data import Dataset"
   ]
  },
  {
   "cell_type": "code",
   "execution_count": 2,
   "metadata": {},
   "outputs": [],
   "source": [
    "path = './ood_generated/'\n"
   ]
  },
  {
   "cell_type": "code",
   "execution_count": 3,
   "metadata": {},
   "outputs": [],
   "source": [
    "# d1 = torch.load(os.path.join(path, 'sel_images_1.pt'))\n",
    "# d2 = torch.load(os.path.join(path, 'sel_images_2.pt'))"
   ]
  },
  {
   "cell_type": "code",
   "execution_count": 4,
   "metadata": {},
   "outputs": [],
   "source": [
    "import os\n",
    "import torch\n",
    "\n",
    "from torchvision import transforms, datasets\n",
    "from torch.utils.data import DataLoader\n",
    "from torch.utils.data import Dataset\n",
    "\n",
    "class CIFAR10_OOD(Dataset):\n",
    "    def __init__(self, path):\n",
    "        d1 = torch.load(os.path.join(path, 'sel_images_1.pt'))\n",
    "        d2 = torch.load(os.path.join(path, 'sel_images_2.pt'))\n",
    "        \n",
    "        self.data = torch.cat((d1, d2), dim=0)\n",
    "        self.label = torch.zeros(self.data.shape[0])\n",
    "        \n",
    "    def __len__(self):\n",
    "        return self.data.shape[0]\n",
    "\n",
    "    def __getitem__(self, idx):\n",
    "        sample = self.data[idx]\n",
    "        label = self.label[idx]\n",
    "        \n",
    "        return sample, label\n",
    "\n",
    "    \n",
    "class CIFAR10_OOD_ViT(Dataset):\n",
    "    def __init__(self, path):\n",
    "        d1 = torch.load(os.path.join(path, 'sel_images_1.pt'))\n",
    "        d2 = torch.load(os.path.join(path, 'sel_images_2.pt'))\n",
    "        \n",
    "        self.data = torch.cat((d1, d2), dim=0)\n",
    "        self.label = torch.zeros(self.data.shape[0])\n",
    "    \n",
    "        self.transform = transforms.Compose([\n",
    "            transforms.Resize((224, 224)),\n",
    "        ])\n",
    "        \n",
    "    def __len__(self):\n",
    "        return self.data.shape[0]\n",
    "\n",
    "    def __getitem__(self, idx):\n",
    "        sample = self.transform(self.data[idx])\n",
    "        label = self.label[idx]\n",
    "        \n",
    "        return sample, label"
   ]
  },
  {
   "cell_type": "code",
   "execution_count": 5,
   "metadata": {},
   "outputs": [],
   "source": [
    "# cifar10_ood = CIFAR10_OOD(path=path)\n",
    "# cifar10_ood_loader = torch.utils.data.DataLoader(\n",
    "#                          cifar10_ood,\n",
    "#                          batch_size=32,\n",
    "#                          shuffle=False,\n",
    "#                          num_workers=4,\n",
    "#                          pin_memory=True,\n",
    "#                      )"
   ]
  },
  {
   "cell_type": "code",
   "execution_count": 6,
   "metadata": {},
   "outputs": [],
   "source": [
    "# for data, label in cifar10_ood_loader:\n",
    "#     data = data.cuda()\n",
    "#     label = label.cuda()\n",
    "    \n",
    "#     print (data.shape)\n",
    "#     print (label.shape)\n",
    "#     print (data.max())\n",
    "#     print (data.min())\n",
    "#     break"
   ]
  },
  {
   "cell_type": "code",
   "execution_count": 7,
   "metadata": {},
   "outputs": [],
   "source": [
    "cifar10_vit_ood = CIFAR10_OOD_ViT(path=path)\n",
    "cifar10_vit_ood_loader = torch.utils.data.DataLoader(\n",
    "                             cifar10_vit_ood,\n",
    "                             batch_size=32,\n",
    "                             shuffle=False,\n",
    "                             num_workers=4,\n",
    "                             pin_memory=True\n",
    "                         )"
   ]
  },
  {
   "cell_type": "code",
   "execution_count": 8,
   "metadata": {},
   "outputs": [
    {
     "name": "stdout",
     "output_type": "stream",
     "text": [
      "torch.Size([32, 3, 224, 224])\n",
      "torch.Size([32])\n",
      "tensor(1.3141, device='cuda:0')\n",
      "tensor(-1.5522, device='cuda:0')\n"
     ]
    }
   ],
   "source": [
    "for data, label in cifar10_vit_ood_loader:\n",
    "    data = data.cuda()\n",
    "    label = label.cuda()\n",
    "    \n",
    "    print (data.shape)\n",
    "    print (label.shape)\n",
    "    print (data.max())\n",
    "    print (data.min())\n",
    "    break"
   ]
  },
  {
   "cell_type": "code",
   "execution_count": null,
   "metadata": {},
   "outputs": [],
   "source": []
  }
 ],
 "metadata": {
  "kernelspec": {
   "display_name": "Python 3",
   "language": "python",
   "name": "python3"
  },
  "language_info": {
   "codemirror_mode": {
    "name": "ipython",
    "version": 3
   },
   "file_extension": ".py",
   "mimetype": "text/x-python",
   "name": "python",
   "nbconvert_exporter": "python",
   "pygments_lexer": "ipython3",
   "version": "3.7.10"
  }
 },
 "nbformat": 4,
 "nbformat_minor": 4
}
